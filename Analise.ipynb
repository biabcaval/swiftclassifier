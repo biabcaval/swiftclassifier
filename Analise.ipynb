{
 "cells": [
  {
   "cell_type": "markdown",
   "metadata": {},
   "source": [
    "### Import tools"
   ]
  },
  {
   "cell_type": "code",
   "execution_count": 14,
   "metadata": {},
   "outputs": [
    {
     "name": "stderr",
     "output_type": "stream",
     "text": [
      "[nltk_data] Downloading package wordnet to\n",
      "[nltk_data]     C:\\Users\\biabc\\AppData\\Roaming\\nltk_data...\n",
      "[nltk_data]   Package wordnet is already up-to-date!\n",
      "[nltk_data] Downloading package punkt to\n",
      "[nltk_data]     C:\\Users\\biabc\\AppData\\Roaming\\nltk_data...\n",
      "[nltk_data]   Package punkt is already up-to-date!\n",
      "[nltk_data] Downloading package stopwords to\n",
      "[nltk_data]     C:\\Users\\biabc\\AppData\\Roaming\\nltk_data...\n",
      "[nltk_data]   Package stopwords is already up-to-date!\n"
     ]
    },
    {
     "data": {
      "text/html": [
       "<div>\n",
       "<style scoped>\n",
       "    .dataframe tbody tr th:only-of-type {\n",
       "        vertical-align: middle;\n",
       "    }\n",
       "\n",
       "    .dataframe tbody tr th {\n",
       "        vertical-align: top;\n",
       "    }\n",
       "\n",
       "    .dataframe thead th {\n",
       "        text-align: right;\n",
       "    }\n",
       "</style>\n",
       "<table border=\"1\" class=\"dataframe\">\n",
       "  <thead>\n",
       "    <tr style=\"text-align: right;\">\n",
       "      <th></th>\n",
       "      <th>Unnamed: 0</th>\n",
       "      <th>Artist</th>\n",
       "      <th>Title</th>\n",
       "      <th>Album</th>\n",
       "      <th>Year</th>\n",
       "      <th>Date</th>\n",
       "      <th>Lyric</th>\n",
       "    </tr>\n",
       "  </thead>\n",
       "  <tbody>\n",
       "    <tr>\n",
       "      <th>0</th>\n",
       "      <td>0</td>\n",
       "      <td>Taylor Swift</td>\n",
       "      <td>​cardigan</td>\n",
       "      <td>folklore</td>\n",
       "      <td>2020.0</td>\n",
       "      <td>2020-07-24</td>\n",
       "      <td>vintage tee brand new phone high heels on cobb...</td>\n",
       "    </tr>\n",
       "    <tr>\n",
       "      <th>1</th>\n",
       "      <td>1</td>\n",
       "      <td>Taylor Swift</td>\n",
       "      <td>​exile</td>\n",
       "      <td>folklore</td>\n",
       "      <td>2020.0</td>\n",
       "      <td>2020-07-24</td>\n",
       "      <td>justin vernon i can see you standing honey wit...</td>\n",
       "    </tr>\n",
       "    <tr>\n",
       "      <th>2</th>\n",
       "      <td>2</td>\n",
       "      <td>Taylor Swift</td>\n",
       "      <td>Lover</td>\n",
       "      <td>Lover</td>\n",
       "      <td>2019.0</td>\n",
       "      <td>2019-08-16</td>\n",
       "      <td>we could leave the christmas lights up 'til ja...</td>\n",
       "    </tr>\n",
       "    <tr>\n",
       "      <th>3</th>\n",
       "      <td>3</td>\n",
       "      <td>Taylor Swift</td>\n",
       "      <td>​the 1</td>\n",
       "      <td>folklore</td>\n",
       "      <td>2020.0</td>\n",
       "      <td>2020-07-24</td>\n",
       "      <td>i'm doing good i'm on some new shit been sayin...</td>\n",
       "    </tr>\n",
       "    <tr>\n",
       "      <th>4</th>\n",
       "      <td>4</td>\n",
       "      <td>Taylor Swift</td>\n",
       "      <td>Look What You Made Me Do</td>\n",
       "      <td>reputation</td>\n",
       "      <td>2017.0</td>\n",
       "      <td>2017-08-25</td>\n",
       "      <td>i don't like your little games don't like your...</td>\n",
       "    </tr>\n",
       "  </tbody>\n",
       "</table>\n",
       "</div>"
      ],
      "text/plain": [
       "   Unnamed: 0        Artist                     Title       Album    Year   \n",
       "0           0  Taylor Swift                 ​cardigan    folklore  2020.0  \\\n",
       "1           1  Taylor Swift                    ​exile    folklore  2020.0   \n",
       "2           2  Taylor Swift                     Lover       Lover  2019.0   \n",
       "3           3  Taylor Swift                    ​the 1    folklore  2020.0   \n",
       "4           4  Taylor Swift  Look What You Made Me Do  reputation  2017.0   \n",
       "\n",
       "         Date                                              Lyric  \n",
       "0  2020-07-24  vintage tee brand new phone high heels on cobb...  \n",
       "1  2020-07-24  justin vernon i can see you standing honey wit...  \n",
       "2  2019-08-16  we could leave the christmas lights up 'til ja...  \n",
       "3  2020-07-24  i'm doing good i'm on some new shit been sayin...  \n",
       "4  2017-08-25  i don't like your little games don't like your...  "
      ]
     },
     "execution_count": 14,
     "metadata": {},
     "output_type": "execute_result"
    }
   ],
   "source": [
    "# visualize and process data\n",
    "import pandas as pd \n",
    "import numpy as np\n",
    "import seaborn as sns\n",
    "\n",
    "# Tokenize, lemmatize, remove stopwords\n",
    "import nltk\n",
    "from nltk.tokenize import word_tokenize\n",
    "from nltk.corpus import stopwords\n",
    "from nltk.stem import WordNetLemmatizer\n",
    "nltk.download('wordnet')\n",
    "nltk.download('punkt')\n",
    "nltk.download('stopwords')\n",
    "from nrclex import NRCLex\n",
    "from os import path\n",
    "from PIL import Image\n",
    "from wordcloud import WordCloud, STOPWORDS, ImageColorGenerator\n",
    "\n",
    "\n",
    "dataset = pd.read_csv(\"TaylorSwift.csv\")\n",
    "\n",
    "dataset.head(5)"
   ]
  },
  {
   "cell_type": "markdown",
   "metadata": {},
   "source": [
    "### Cleaning data"
   ]
  },
  {
   "cell_type": "code",
   "execution_count": 2,
   "metadata": {},
   "outputs": [
    {
     "data": {
      "text/plain": [
       "['Fearless',\n",
       " 'Fearless',\n",
       " 'Fearless',\n",
       " 'Fearless',\n",
       " 'Fearless',\n",
       " 'Fearless',\n",
       " 'Fearless',\n",
       " 'Fearless',\n",
       " 'Fearless',\n",
       " 'Fearless',\n",
       " 'Fearless',\n",
       " 'Fearless',\n",
       " 'Fearless']"
      ]
     },
     "execution_count": 2,
     "metadata": {},
     "output_type": "execute_result"
    }
   ],
   "source": [
    "taylor_vers = [ i for i in dataset['Album'] if i in (\"Speak Now(Taylor's Version)\", \"Red (Taylor's Version)\", \"Fearless\")]\n",
    "taylor_vers\n",
    "\n",
    "#Checking if there's any taylor's vesion album, because that would mean repeated songs"
   ]
  },
  {
   "cell_type": "code",
   "execution_count": 3,
   "metadata": {},
   "outputs": [],
   "source": [
    "dataset = dataset.dropna(subset=['Lyric'])\n",
    "\n",
    "#Removing the rows where the lyrics are missing because the 'Lyric' column will be our main parameter for the analysis"
   ]
  },
  {
   "cell_type": "markdown",
   "metadata": {},
   "source": [
    "### Tokenazation "
   ]
  },
  {
   "cell_type": "code",
   "execution_count": 4,
   "metadata": {},
   "outputs": [
    {
     "name": "stdout",
     "output_type": "stream",
     "text": [
      "['vintage', 'tee', 'brand', 'new', 'phone', 'high', 'heels', 'cobblestones', 'young', 'assume', 'know', 'nothing', 'sequin', 'smile', 'black', 'lipstick', 'sensual', 'politics', 'young', 'assume', 'know', 'nothing', 'knew', 'dancin', 'levi', 'drunk', 'streetlight', 'knew', 'hand', 'sweatshirt', 'baby', 'kiss', 'better', 'refrain', 'felt', 'like', 'old', 'cardigan', 'someone', 'bed', 'put', 'said', 'favorite', 'friend', 'friend', 'none', 'chase', 'two', 'girls', 'lose', 'one', 'young', 'assume', 'know', 'nothing', 'knew', 'playing', 'hideandseek', 'giving', 'weekends', 'knew', 'heartbeat', 'high', 'line', 'twenty', 'lifetimes', 'refrain', 'felt', 'like', 'old', 'cardigan', 'someone', 'bed', 'put', 'said', 'favorite', 'kiss', 'cars', 'downtown', 'bars', 'needed', 'drew', 'stars', 'around', 'scars', 'bleedin', 'knew', 'steppin', 'last', 'train', 'marked', 'like', 'bloodstain', 'knew', 'tried', 'change', 'ending', 'peter', 'losing', 'wendy', 'knew', 'leavin', 'like', 'father', 'running', 'like', 'water', 'young', 'assume', 'know', 'nothing', 'knew', 'linger', 'like', 'tattoo', 'kiss', 'knew', 'haunt', 'whatifs', 'smell', 'smoke', 'would', 'hang', 'around', 'long', 'knew', 'everything', 'young', 'knew', 'curse', 'longest', 'time', 'chasin', 'shadows', 'grocery', 'line', 'knew', 'miss', 'thrill', 'expired', 'standin', 'front', 'porch', 'light', 'knew', 'come', 'back', 'come', 'back', 'come', 'back', 'come', 'back', 'refrain', 'felt', 'like', 'old', 'cardigan', 'someone', 'bed', 'put', 'said', 'favorite']\n"
     ]
    }
   ],
   "source": [
    "stop_words = set(stopwords.words('english'))\n",
    "\n",
    "lyrics = [i for i in dataset['Lyric']] # putting lyrics in a list\n",
    "\n",
    "\n",
    "\n",
    "tokenized_lyrics = []\n",
    "\n",
    "for i in lyrics: # tokenization\n",
    "    tokenized_lyrics.append(word_tokenize(i)) # tokenizing every word from every lyric\n",
    "\n",
    "\n",
    "\n",
    "filtered_lyrics = []\n",
    "\n",
    "for i in tokenized_lyrics: # removing stop words\n",
    "    col = []\n",
    "    for j in i: \n",
    "        if j.lower() not in stop_words and j.isalnum():\n",
    "            col.append(j.lower())\n",
    "        \n",
    "        filtered_lyrics.append(col) # filling the filtered_lyrics list\n",
    "\n",
    "\n",
    "print(filtered_lyrics[1])\n"
   ]
  },
  {
   "cell_type": "markdown",
   "metadata": {},
   "source": [
    "### Lemmatizing\n"
   ]
  },
  {
   "cell_type": "code",
   "execution_count": 12,
   "metadata": {},
   "outputs": [],
   "source": [
    "lemmatizer = WordNetLemmatizer() # creating lemmatizer\n",
    "\n",
    "lyrics_lemma = []\n",
    "for l in filtered_lyrics:\n",
    "    song_lemma = []\n",
    "    for p in l:\n",
    "        song_lemma.append(lemmatizer.lemmatize(p)) # applying the lemmatizer for each word in each lyric\n",
    "    lyrics_lemma.append(song_lemma) # combining all lematized lyrics in a list\n",
    "\n",
    "    \n"
   ]
  },
  {
   "cell_type": "code",
   "execution_count": 13,
   "metadata": {},
   "outputs": [
    {
     "name": "stdout",
     "output_type": "stream",
     "text": [
      "['vintage', 'tee', 'brand', 'new', 'phone', 'high', 'heel', 'cobblestone', 'young', 'assume', 'know', 'nothing', 'sequin', 'smile', 'black', 'lipstick', 'sensual', 'politics', 'young', 'assume', 'know', 'nothing', 'knew', 'dancin', 'levi', 'drunk', 'streetlight', 'knew', 'hand', 'sweatshirt', 'baby', 'kiss', 'better', 'refrain', 'felt', 'like', 'old', 'cardigan', 'someone', 'bed', 'put', 'said', 'favorite', 'friend', 'friend', 'none', 'chase', 'two', 'girl', 'lose', 'one', 'young', 'assume', 'know', 'nothing', 'knew', 'playing', 'hideandseek', 'giving', 'weekend', 'knew', 'heartbeat', 'high', 'line', 'twenty', 'lifetime', 'refrain', 'felt', 'like', 'old', 'cardigan', 'someone', 'bed', 'put', 'said', 'favorite', 'kiss', 'car', 'downtown', 'bar', 'needed', 'drew', 'star', 'around', 'scar', 'bleedin', 'knew', 'steppin', 'last', 'train', 'marked', 'like', 'bloodstain', 'knew', 'tried', 'change', 'ending', 'peter', 'losing', 'wendy', 'knew', 'leavin', 'like', 'father', 'running', 'like', 'water', 'young', 'assume', 'know', 'nothing', 'knew', 'linger', 'like', 'tattoo', 'kiss', 'knew', 'haunt', 'whatifs', 'smell', 'smoke', 'would', 'hang', 'around', 'long', 'knew', 'everything', 'young', 'knew', 'curse', 'longest', 'time', 'chasin', 'shadow', 'grocery', 'line', 'knew', 'miss', 'thrill', 'expired', 'standin', 'front', 'porch', 'light', 'knew', 'come', 'back', 'come', 'back', 'come', 'back', 'come', 'back', 'refrain', 'felt', 'like', 'old', 'cardigan', 'someone', 'bed', 'put', 'said', 'favorite']\n"
     ]
    }
   ],
   "source": [
    "print(lyrics_lemma[1])"
   ]
  },
  {
   "cell_type": "markdown",
   "metadata": {},
   "source": [
    "### Emotion column"
   ]
  },
  {
   "cell_type": "code",
   "execution_count": 5,
   "metadata": {},
   "outputs": [],
   "source": [
    "# Now, let's do the average of emotions in each song\n",
    "# Because we're using NRClex (lexicon), for now we will use the non-filtered version of the lyrics\n",
    "from collections import Counter\n",
    "\n",
    "emotions = []\n",
    "\n",
    "for i in lyrics:  # Here we give the song the average emotion in it\n",
    "    \n",
    "    e = NRCLex(i)\n",
    "    if e.affect_list:  # Verifica se a lista não está vazia\n",
    "        mode = max(e.affect_list, key=Counter(e.affect_list).get)\n",
    "        emotions.append(mode)\n",
    "    else:\n",
    "        ind = dataset.loc[dataset['Lyric'] == i].index\n",
    "        dataset = dataset.drop(ind) # remove songs wich do not contain valid lyrics\n",
    "    \n",
    "dataset['Emotion'] = emotions\n",
    "\n",
    "\n"
   ]
  },
  {
   "cell_type": "code",
   "execution_count": 6,
   "metadata": {},
   "outputs": [
    {
     "data": {
      "text/html": [
       "<div>\n",
       "<style scoped>\n",
       "    .dataframe tbody tr th:only-of-type {\n",
       "        vertical-align: middle;\n",
       "    }\n",
       "\n",
       "    .dataframe tbody tr th {\n",
       "        vertical-align: top;\n",
       "    }\n",
       "\n",
       "    .dataframe thead th {\n",
       "        text-align: right;\n",
       "    }\n",
       "</style>\n",
       "<table border=\"1\" class=\"dataframe\">\n",
       "  <thead>\n",
       "    <tr style=\"text-align: right;\">\n",
       "      <th></th>\n",
       "      <th>Unnamed: 0</th>\n",
       "      <th>Artist</th>\n",
       "      <th>Title</th>\n",
       "      <th>Album</th>\n",
       "      <th>Year</th>\n",
       "      <th>Date</th>\n",
       "      <th>Lyric</th>\n",
       "      <th>Emotion</th>\n",
       "    </tr>\n",
       "  </thead>\n",
       "  <tbody>\n",
       "    <tr>\n",
       "      <th>0</th>\n",
       "      <td>0</td>\n",
       "      <td>Taylor Swift</td>\n",
       "      <td>​cardigan</td>\n",
       "      <td>folklore</td>\n",
       "      <td>2020.0</td>\n",
       "      <td>2020-07-24</td>\n",
       "      <td>vintage tee brand new phone high heels on cobb...</td>\n",
       "      <td>positive</td>\n",
       "    </tr>\n",
       "    <tr>\n",
       "      <th>1</th>\n",
       "      <td>1</td>\n",
       "      <td>Taylor Swift</td>\n",
       "      <td>​exile</td>\n",
       "      <td>folklore</td>\n",
       "      <td>2020.0</td>\n",
       "      <td>2020-07-24</td>\n",
       "      <td>justin vernon i can see you standing honey wit...</td>\n",
       "      <td>fear</td>\n",
       "    </tr>\n",
       "    <tr>\n",
       "      <th>2</th>\n",
       "      <td>2</td>\n",
       "      <td>Taylor Swift</td>\n",
       "      <td>Lover</td>\n",
       "      <td>Lover</td>\n",
       "      <td>2019.0</td>\n",
       "      <td>2019-08-16</td>\n",
       "      <td>we could leave the christmas lights up 'til ja...</td>\n",
       "      <td>positive</td>\n",
       "    </tr>\n",
       "    <tr>\n",
       "      <th>3</th>\n",
       "      <td>3</td>\n",
       "      <td>Taylor Swift</td>\n",
       "      <td>​the 1</td>\n",
       "      <td>folklore</td>\n",
       "      <td>2020.0</td>\n",
       "      <td>2020-07-24</td>\n",
       "      <td>i'm doing good i'm on some new shit been sayin...</td>\n",
       "      <td>positive</td>\n",
       "    </tr>\n",
       "    <tr>\n",
       "      <th>4</th>\n",
       "      <td>4</td>\n",
       "      <td>Taylor Swift</td>\n",
       "      <td>Look What You Made Me Do</td>\n",
       "      <td>reputation</td>\n",
       "      <td>2017.0</td>\n",
       "      <td>2017-08-25</td>\n",
       "      <td>i don't like your little games don't like your...</td>\n",
       "      <td>negative</td>\n",
       "    </tr>\n",
       "  </tbody>\n",
       "</table>\n",
       "</div>"
      ],
      "text/plain": [
       "   Unnamed: 0        Artist                     Title       Album    Year   \n",
       "0           0  Taylor Swift                 ​cardigan    folklore  2020.0  \\\n",
       "1           1  Taylor Swift                    ​exile    folklore  2020.0   \n",
       "2           2  Taylor Swift                     Lover       Lover  2019.0   \n",
       "3           3  Taylor Swift                    ​the 1    folklore  2020.0   \n",
       "4           4  Taylor Swift  Look What You Made Me Do  reputation  2017.0   \n",
       "\n",
       "         Date                                              Lyric   Emotion  \n",
       "0  2020-07-24  vintage tee brand new phone high heels on cobb...  positive  \n",
       "1  2020-07-24  justin vernon i can see you standing honey wit...      fear  \n",
       "2  2019-08-16  we could leave the christmas lights up 'til ja...  positive  \n",
       "3  2020-07-24  i'm doing good i'm on some new shit been sayin...  positive  \n",
       "4  2017-08-25  i don't like your little games don't like your...  negative  "
      ]
     },
     "execution_count": 6,
     "metadata": {},
     "output_type": "execute_result"
    }
   ],
   "source": [
    "dataset.head(5)"
   ]
  },
  {
   "cell_type": "code",
   "execution_count": 8,
   "metadata": {},
   "outputs": [
    {
     "data": {
      "text/plain": [
       "0    positive\n",
       "Name: Emotion, dtype: object"
      ]
     },
     "execution_count": 8,
     "metadata": {},
     "output_type": "execute_result"
    }
   ],
   "source": [
    "# Here we can se the emotions for the first 5 songs in the dataset\n",
    "\n",
    "dataset['Emotion'].mode()"
   ]
  },
  {
   "cell_type": "markdown",
   "metadata": {},
   "source": [
    "- From that we can assume that most of Taylor Swift's songs are related to positive fellings, Love songs."
   ]
  },
  {
   "cell_type": "markdown",
   "metadata": {},
   "source": [
    "### Exploring our data"
   ]
  },
  {
   "cell_type": "code",
   "execution_count": 9,
   "metadata": {},
   "outputs": [
    {
     "data": {
      "text/plain": [
       "<seaborn.axisgrid.FacetGrid at 0x1d63f0c91b0>"
      ]
     },
     "execution_count": 9,
     "metadata": {},
     "output_type": "execute_result"
    },
    {
     "data": {
      "image/png": "[encoded data removed]",
      "text/plain": [
       "<Figure size 500x500 with 1 Axes>"
      ]
     },
     "metadata": {},
     "output_type": "display_data"
    }
   ],
   "source": [
    "sns.displot(data=dataset, x ='Year', bins = 10)\n",
    "\n",
    "# Most of the songs where released in 2010-2020, when taylor swift was ascending in the industry"
   ]
  },
  {
   "cell_type": "code",
   "execution_count": 12,
   "metadata": {},
   "outputs": [
    {
     "ename": "ValueError",
     "evalue": "could not convert string to float: 'Taylor Swift'",
     "output_type": "error",
     "traceback": [
      "\u001b[1;31m---------------------------------------------------------------------------\u001b[0m",
      "\u001b[1;31mValueError\u001b[0m                                Traceback (most recent call last)",
      "Cell \u001b[1;32mIn[12], line 1\u001b[0m\n\u001b[1;32m----> 1\u001b[0m sns\u001b[39m.\u001b[39;49mheatmap(dataset, annot\u001b[39m=\u001b[39;49m\u001b[39mTrue\u001b[39;49;00m)\n",
      "File \u001b[1;32mc:\\Users\\biabc\\AppData\\Local\\Programs\\Python\\Python310\\lib\\site-packages\\seaborn\\matrix.py:446\u001b[0m, in \u001b[0;36mheatmap\u001b[1;34m(data, vmin, vmax, cmap, center, robust, annot, fmt, annot_kws, linewidths, linecolor, cbar, cbar_kws, cbar_ax, square, xticklabels, yticklabels, mask, ax, **kwargs)\u001b[0m\n\u001b[0;32m    365\u001b[0m \u001b[39m\u001b[39m\u001b[39m\"\"\"Plot rectangular data as a color-encoded matrix.\u001b[39;00m\n\u001b[0;32m    366\u001b[0m \n\u001b[0;32m    367\u001b[0m \u001b[39mThis is an Axes-level function and will draw the heatmap into the\u001b[39;00m\n\u001b[1;32m   (...)\u001b[0m\n\u001b[0;32m    443\u001b[0m \n\u001b[0;32m    444\u001b[0m \u001b[39m\"\"\"\u001b[39;00m\n\u001b[0;32m    445\u001b[0m \u001b[39m# Initialize the plotter object\u001b[39;00m\n\u001b[1;32m--> 446\u001b[0m plotter \u001b[39m=\u001b[39m _HeatMapper(data, vmin, vmax, cmap, center, robust, annot, fmt,\n\u001b[0;32m    447\u001b[0m                       annot_kws, cbar, cbar_kws, xticklabels,\n\u001b[0;32m    448\u001b[0m                       yticklabels, mask)\n\u001b[0;32m    450\u001b[0m \u001b[39m# Add the pcolormesh kwargs here\u001b[39;00m\n\u001b[0;32m    451\u001b[0m kwargs[\u001b[39m\"\u001b[39m\u001b[39mlinewidths\u001b[39m\u001b[39m\"\u001b[39m] \u001b[39m=\u001b[39m linewidths\n",
      "File \u001b[1;32mc:\\Users\\biabc\\AppData\\Local\\Programs\\Python\\Python310\\lib\\site-packages\\seaborn\\matrix.py:163\u001b[0m, in \u001b[0;36m_HeatMapper.__init__\u001b[1;34m(self, data, vmin, vmax, cmap, center, robust, annot, fmt, annot_kws, cbar, cbar_kws, xticklabels, yticklabels, mask)\u001b[0m\n\u001b[0;32m    160\u001b[0m \u001b[39mself\u001b[39m\u001b[39m.\u001b[39mylabel \u001b[39m=\u001b[39m ylabel \u001b[39mif\u001b[39;00m ylabel \u001b[39mis\u001b[39;00m \u001b[39mnot\u001b[39;00m \u001b[39mNone\u001b[39;00m \u001b[39melse\u001b[39;00m \u001b[39m\"\u001b[39m\u001b[39m\"\u001b[39m\n\u001b[0;32m    162\u001b[0m \u001b[39m# Determine good default values for the colormapping\u001b[39;00m\n\u001b[1;32m--> 163\u001b[0m \u001b[39mself\u001b[39;49m\u001b[39m.\u001b[39;49m_determine_cmap_params(plot_data, vmin, vmax,\n\u001b[0;32m    164\u001b[0m                             cmap, center, robust)\n\u001b[0;32m    166\u001b[0m \u001b[39m# Sort out the annotations\u001b[39;00m\n\u001b[0;32m    167\u001b[0m \u001b[39mif\u001b[39;00m annot \u001b[39mis\u001b[39;00m \u001b[39mNone\u001b[39;00m \u001b[39mor\u001b[39;00m annot \u001b[39mis\u001b[39;00m \u001b[39mFalse\u001b[39;00m:\n",
      "File \u001b[1;32mc:\\Users\\biabc\\AppData\\Local\\Programs\\Python\\Python310\\lib\\site-packages\\seaborn\\matrix.py:197\u001b[0m, in \u001b[0;36m_HeatMapper._determine_cmap_params\u001b[1;34m(self, plot_data, vmin, vmax, cmap, center, robust)\u001b[0m\n\u001b[0;32m    194\u001b[0m \u001b[39m\u001b[39m\u001b[39m\"\"\"Use some heuristics to set good defaults for colorbar and range.\"\"\"\u001b[39;00m\n\u001b[0;32m    196\u001b[0m \u001b[39m# plot_data is a np.ma.array instance\u001b[39;00m\n\u001b[1;32m--> 197\u001b[0m calc_data \u001b[39m=\u001b[39m plot_data\u001b[39m.\u001b[39;49mastype(\u001b[39mfloat\u001b[39;49m)\u001b[39m.\u001b[39mfilled(np\u001b[39m.\u001b[39mnan)\n\u001b[0;32m    198\u001b[0m \u001b[39mif\u001b[39;00m vmin \u001b[39mis\u001b[39;00m \u001b[39mNone\u001b[39;00m:\n\u001b[0;32m    199\u001b[0m     \u001b[39mif\u001b[39;00m robust:\n",
      "\u001b[1;31mValueError\u001b[0m: could not convert string to float: 'Taylor Swift'"
     ]
    }
   ],
   "source": [
    "sns.heatmap(dataset, annot=True)"
   ]
  }
 ],
 "metadata": {
  "kernelspec": {
   "display_name": "Python 3",
   "language": "python",
   "name": "python3"
  },
  "language_info": {
   "codemirror_mode": {
    "name": "ipython",
    "version": 3
   },
   "file_extension": ".py",
   "mimetype": "text/x-python",
   "name": "python",
   "nbconvert_exporter": "python",
   "pygments_lexer": "ipython3",
   "version": "3.10.6"
  },
  "orig_nbformat": 4
 },
 "nbformat": 4,
 "nbformat_minor": 2
}
